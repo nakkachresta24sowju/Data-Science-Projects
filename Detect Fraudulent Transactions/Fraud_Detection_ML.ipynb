{
  "nbformat": 4,
  "nbformat_minor": 0,
  "metadata": {
    "colab": {
      "name": "Fraud Detection- ML.ipynb",
      "provenance": [],
      "collapsed_sections": []
    },
    "kernelspec": {
      "name": "python3",
      "display_name": "Python 3"
    },
    "language_info": {
      "name": "python"
    }
  },
  "cells": [
    {
      "cell_type": "code",
      "source": [
        "# import libraries\n",
        "import numpy as np\n",
        "import pandas as pd \n",
        "import matplotlib.pyplot as plt\n",
        "import seaborn as sns\n",
        " \n",
        "# Get data \n",
        "df = pd.read_csv(\"/content/drive/MyDrive/Internship Projects/INSAID- Project/Fraud.csv\")\n",
        "print(df.shape)"
      ],
      "metadata": {
        "id": "206H3J2n9Vde",
        "colab": {
          "base_uri": "https://localhost:8080/"
        },
        "outputId": "1bfc8827-58ee-4bed-a741-ff3f47e51742"
      },
      "execution_count": null,
      "outputs": [
        {
          "output_type": "stream",
          "name": "stdout",
          "text": [
            "(6362620, 11)\n"
          ]
        }
      ]
    },
    {
      "cell_type": "code",
      "source": [
        "# Checking for null values in the data frame\n",
        "print(df.isnull().sum())\n",
        "'''Zero null values present in the data'''"
      ],
      "metadata": {
        "colab": {
          "base_uri": "https://localhost:8080/",
          "height": 244
        },
        "id": "rwZRKPHJEPK7",
        "outputId": "9c2a70ca-9041-45e9-f659-9b22d8761237"
      },
      "execution_count": null,
      "outputs": [
        {
          "output_type": "stream",
          "name": "stdout",
          "text": [
            "step              0\n",
            "type              0\n",
            "amount            0\n",
            "nameOrig          0\n",
            "oldbalanceOrg     0\n",
            "newbalanceOrig    0\n",
            "nameDest          0\n",
            "oldbalanceDest    0\n",
            "newbalanceDest    0\n",
            "isFraud           0\n",
            "isFlaggedFraud    0\n",
            "dtype: int64\n"
          ]
        },
        {
          "output_type": "execute_result",
          "data": {
            "text/plain": [
              "'Zero null values present in the data'"
            ],
            "application/vnd.google.colaboratory.intrinsic+json": {
              "type": "string"
            }
          },
          "metadata": {},
          "execution_count": 2
        }
      ]
    },
    {
      "cell_type": "code",
      "source": [
        "# Get type transactions with count present in the data \n",
        "print(df.type.value_counts())"
      ],
      "metadata": {
        "colab": {
          "base_uri": "https://localhost:8080/"
        },
        "id": "sBJVk0H0EbeS",
        "outputId": "a412a18b-2840-4c0e-a40b-fdd8caffb77e"
      },
      "execution_count": null,
      "outputs": [
        {
          "output_type": "stream",
          "name": "stdout",
          "text": [
            "CASH_OUT    2237500\n",
            "PAYMENT     2151495\n",
            "CASH_IN     1399284\n",
            "TRANSFER     532909\n",
            "DEBIT         41432\n",
            "Name: type, dtype: int64\n"
          ]
        }
      ]
    },
    {
      "cell_type": "code",
      "source": [
        "#Getting summary of the data\n",
        "df.info()\n",
        "df.describe()"
      ],
      "metadata": {
        "colab": {
          "base_uri": "https://localhost:8080/",
          "height": 613
        },
        "id": "e9y9-gUOEg4w",
        "outputId": "46081b98-29aa-428b-ee4a-d321d6d8f1a4"
      },
      "execution_count": null,
      "outputs": [
        {
          "output_type": "stream",
          "name": "stdout",
          "text": [
            "<class 'pandas.core.frame.DataFrame'>\n",
            "RangeIndex: 6362620 entries, 0 to 6362619\n",
            "Data columns (total 11 columns):\n",
            " #   Column          Dtype  \n",
            "---  ------          -----  \n",
            " 0   step            int64  \n",
            " 1   type            object \n",
            " 2   amount          float64\n",
            " 3   nameOrig        object \n",
            " 4   oldbalanceOrg   float64\n",
            " 5   newbalanceOrig  float64\n",
            " 6   nameDest        object \n",
            " 7   oldbalanceDest  float64\n",
            " 8   newbalanceDest  float64\n",
            " 9   isFraud         int64  \n",
            " 10  isFlaggedFraud  int64  \n",
            "dtypes: float64(5), int64(3), object(3)\n",
            "memory usage: 534.0+ MB\n"
          ]
        },
        {
          "output_type": "execute_result",
          "data": {
            "text/plain": [
              "               step        amount  oldbalanceOrg  newbalanceOrig  \\\n",
              "count  6.362620e+06  6.362620e+06   6.362620e+06    6.362620e+06   \n",
              "mean   2.433972e+02  1.798619e+05   8.338831e+05    8.551137e+05   \n",
              "std    1.423320e+02  6.038582e+05   2.888243e+06    2.924049e+06   \n",
              "min    1.000000e+00  0.000000e+00   0.000000e+00    0.000000e+00   \n",
              "25%    1.560000e+02  1.338957e+04   0.000000e+00    0.000000e+00   \n",
              "50%    2.390000e+02  7.487194e+04   1.420800e+04    0.000000e+00   \n",
              "75%    3.350000e+02  2.087215e+05   1.073152e+05    1.442584e+05   \n",
              "max    7.430000e+02  9.244552e+07   5.958504e+07    4.958504e+07   \n",
              "\n",
              "       oldbalanceDest  newbalanceDest       isFraud  isFlaggedFraud  \n",
              "count    6.362620e+06    6.362620e+06  6.362620e+06    6.362620e+06  \n",
              "mean     1.100702e+06    1.224996e+06  1.290820e-03    2.514687e-06  \n",
              "std      3.399180e+06    3.674129e+06  3.590480e-02    1.585775e-03  \n",
              "min      0.000000e+00    0.000000e+00  0.000000e+00    0.000000e+00  \n",
              "25%      0.000000e+00    0.000000e+00  0.000000e+00    0.000000e+00  \n",
              "50%      1.327057e+05    2.146614e+05  0.000000e+00    0.000000e+00  \n",
              "75%      9.430367e+05    1.111909e+06  0.000000e+00    0.000000e+00  \n",
              "max      3.560159e+08    3.561793e+08  1.000000e+00    1.000000e+00  "
            ],
            "text/html": [
              "\n",
              "  <div id=\"df-e19168fe-e8ee-4a3b-9185-c993c50fd8a5\">\n",
              "    <div class=\"colab-df-container\">\n",
              "      <div>\n",
              "<style scoped>\n",
              "    .dataframe tbody tr th:only-of-type {\n",
              "        vertical-align: middle;\n",
              "    }\n",
              "\n",
              "    .dataframe tbody tr th {\n",
              "        vertical-align: top;\n",
              "    }\n",
              "\n",
              "    .dataframe thead th {\n",
              "        text-align: right;\n",
              "    }\n",
              "</style>\n",
              "<table border=\"1\" class=\"dataframe\">\n",
              "  <thead>\n",
              "    <tr style=\"text-align: right;\">\n",
              "      <th></th>\n",
              "      <th>step</th>\n",
              "      <th>amount</th>\n",
              "      <th>oldbalanceOrg</th>\n",
              "      <th>newbalanceOrig</th>\n",
              "      <th>oldbalanceDest</th>\n",
              "      <th>newbalanceDest</th>\n",
              "      <th>isFraud</th>\n",
              "      <th>isFlaggedFraud</th>\n",
              "    </tr>\n",
              "  </thead>\n",
              "  <tbody>\n",
              "    <tr>\n",
              "      <th>count</th>\n",
              "      <td>6.362620e+06</td>\n",
              "      <td>6.362620e+06</td>\n",
              "      <td>6.362620e+06</td>\n",
              "      <td>6.362620e+06</td>\n",
              "      <td>6.362620e+06</td>\n",
              "      <td>6.362620e+06</td>\n",
              "      <td>6.362620e+06</td>\n",
              "      <td>6.362620e+06</td>\n",
              "    </tr>\n",
              "    <tr>\n",
              "      <th>mean</th>\n",
              "      <td>2.433972e+02</td>\n",
              "      <td>1.798619e+05</td>\n",
              "      <td>8.338831e+05</td>\n",
              "      <td>8.551137e+05</td>\n",
              "      <td>1.100702e+06</td>\n",
              "      <td>1.224996e+06</td>\n",
              "      <td>1.290820e-03</td>\n",
              "      <td>2.514687e-06</td>\n",
              "    </tr>\n",
              "    <tr>\n",
              "      <th>std</th>\n",
              "      <td>1.423320e+02</td>\n",
              "      <td>6.038582e+05</td>\n",
              "      <td>2.888243e+06</td>\n",
              "      <td>2.924049e+06</td>\n",
              "      <td>3.399180e+06</td>\n",
              "      <td>3.674129e+06</td>\n",
              "      <td>3.590480e-02</td>\n",
              "      <td>1.585775e-03</td>\n",
              "    </tr>\n",
              "    <tr>\n",
              "      <th>min</th>\n",
              "      <td>1.000000e+00</td>\n",
              "      <td>0.000000e+00</td>\n",
              "      <td>0.000000e+00</td>\n",
              "      <td>0.000000e+00</td>\n",
              "      <td>0.000000e+00</td>\n",
              "      <td>0.000000e+00</td>\n",
              "      <td>0.000000e+00</td>\n",
              "      <td>0.000000e+00</td>\n",
              "    </tr>\n",
              "    <tr>\n",
              "      <th>25%</th>\n",
              "      <td>1.560000e+02</td>\n",
              "      <td>1.338957e+04</td>\n",
              "      <td>0.000000e+00</td>\n",
              "      <td>0.000000e+00</td>\n",
              "      <td>0.000000e+00</td>\n",
              "      <td>0.000000e+00</td>\n",
              "      <td>0.000000e+00</td>\n",
              "      <td>0.000000e+00</td>\n",
              "    </tr>\n",
              "    <tr>\n",
              "      <th>50%</th>\n",
              "      <td>2.390000e+02</td>\n",
              "      <td>7.487194e+04</td>\n",
              "      <td>1.420800e+04</td>\n",
              "      <td>0.000000e+00</td>\n",
              "      <td>1.327057e+05</td>\n",
              "      <td>2.146614e+05</td>\n",
              "      <td>0.000000e+00</td>\n",
              "      <td>0.000000e+00</td>\n",
              "    </tr>\n",
              "    <tr>\n",
              "      <th>75%</th>\n",
              "      <td>3.350000e+02</td>\n",
              "      <td>2.087215e+05</td>\n",
              "      <td>1.073152e+05</td>\n",
              "      <td>1.442584e+05</td>\n",
              "      <td>9.430367e+05</td>\n",
              "      <td>1.111909e+06</td>\n",
              "      <td>0.000000e+00</td>\n",
              "      <td>0.000000e+00</td>\n",
              "    </tr>\n",
              "    <tr>\n",
              "      <th>max</th>\n",
              "      <td>7.430000e+02</td>\n",
              "      <td>9.244552e+07</td>\n",
              "      <td>5.958504e+07</td>\n",
              "      <td>4.958504e+07</td>\n",
              "      <td>3.560159e+08</td>\n",
              "      <td>3.561793e+08</td>\n",
              "      <td>1.000000e+00</td>\n",
              "      <td>1.000000e+00</td>\n",
              "    </tr>\n",
              "  </tbody>\n",
              "</table>\n",
              "</div>\n",
              "      <button class=\"colab-df-convert\" onclick=\"convertToInteractive('df-e19168fe-e8ee-4a3b-9185-c993c50fd8a5')\"\n",
              "              title=\"Convert this dataframe to an interactive table.\"\n",
              "              style=\"display:none;\">\n",
              "        \n",
              "  <svg xmlns=\"http://www.w3.org/2000/svg\" height=\"24px\"viewBox=\"0 0 24 24\"\n",
              "       width=\"24px\">\n",
              "    <path d=\"M0 0h24v24H0V0z\" fill=\"none\"/>\n",
              "    <path d=\"M18.56 5.44l.94 2.06.94-2.06 2.06-.94-2.06-.94-.94-2.06-.94 2.06-2.06.94zm-11 1L8.5 8.5l.94-2.06 2.06-.94-2.06-.94L8.5 2.5l-.94 2.06-2.06.94zm10 10l.94 2.06.94-2.06 2.06-.94-2.06-.94-.94-2.06-.94 2.06-2.06.94z\"/><path d=\"M17.41 7.96l-1.37-1.37c-.4-.4-.92-.59-1.43-.59-.52 0-1.04.2-1.43.59L10.3 9.45l-7.72 7.72c-.78.78-.78 2.05 0 2.83L4 21.41c.39.39.9.59 1.41.59.51 0 1.02-.2 1.41-.59l7.78-7.78 2.81-2.81c.8-.78.8-2.07 0-2.86zM5.41 20L4 18.59l7.72-7.72 1.47 1.35L5.41 20z\"/>\n",
              "  </svg>\n",
              "      </button>\n",
              "      \n",
              "  <style>\n",
              "    .colab-df-container {\n",
              "      display:flex;\n",
              "      flex-wrap:wrap;\n",
              "      gap: 12px;\n",
              "    }\n",
              "\n",
              "    .colab-df-convert {\n",
              "      background-color: #E8F0FE;\n",
              "      border: none;\n",
              "      border-radius: 50%;\n",
              "      cursor: pointer;\n",
              "      display: none;\n",
              "      fill: #1967D2;\n",
              "      height: 32px;\n",
              "      padding: 0 0 0 0;\n",
              "      width: 32px;\n",
              "    }\n",
              "\n",
              "    .colab-df-convert:hover {\n",
              "      background-color: #E2EBFA;\n",
              "      box-shadow: 0px 1px 2px rgba(60, 64, 67, 0.3), 0px 1px 3px 1px rgba(60, 64, 67, 0.15);\n",
              "      fill: #174EA6;\n",
              "    }\n",
              "\n",
              "    [theme=dark] .colab-df-convert {\n",
              "      background-color: #3B4455;\n",
              "      fill: #D2E3FC;\n",
              "    }\n",
              "\n",
              "    [theme=dark] .colab-df-convert:hover {\n",
              "      background-color: #434B5C;\n",
              "      box-shadow: 0px 1px 3px 1px rgba(0, 0, 0, 0.15);\n",
              "      filter: drop-shadow(0px 1px 2px rgba(0, 0, 0, 0.3));\n",
              "      fill: #FFFFFF;\n",
              "    }\n",
              "  </style>\n",
              "\n",
              "      <script>\n",
              "        const buttonEl =\n",
              "          document.querySelector('#df-e19168fe-e8ee-4a3b-9185-c993c50fd8a5 button.colab-df-convert');\n",
              "        buttonEl.style.display =\n",
              "          google.colab.kernel.accessAllowed ? 'block' : 'none';\n",
              "\n",
              "        async function convertToInteractive(key) {\n",
              "          const element = document.querySelector('#df-e19168fe-e8ee-4a3b-9185-c993c50fd8a5');\n",
              "          const dataTable =\n",
              "            await google.colab.kernel.invokeFunction('convertToInteractive',\n",
              "                                                     [key], {});\n",
              "          if (!dataTable) return;\n",
              "\n",
              "          const docLinkHtml = 'Like what you see? Visit the ' +\n",
              "            '<a target=\"_blank\" href=https://colab.research.google.com/notebooks/data_table.ipynb>data table notebook</a>'\n",
              "            + ' to learn more about interactive tables.';\n",
              "          element.innerHTML = '';\n",
              "          dataTable['output_type'] = 'display_data';\n",
              "          await google.colab.output.renderOutput(dataTable, element);\n",
              "          const docLink = document.createElement('div');\n",
              "          docLink.innerHTML = docLinkHtml;\n",
              "          element.appendChild(docLink);\n",
              "        }\n",
              "      </script>\n",
              "    </div>\n",
              "  </div>\n",
              "  "
            ]
          },
          "metadata": {},
          "execution_count": 4
        }
      ]
    },
    {
      "cell_type": "code",
      "source": [
        "# Remove column name Isflagfraud\n",
        "df.drop(\"isFlaggedFraud\", axis=1, inplace=True)"
      ],
      "metadata": {
        "id": "7-cDdxQKEkIv"
      },
      "execution_count": null,
      "outputs": []
    },
    {
      "cell_type": "code",
      "source": [
        "#Checking for Duplicated values\n",
        "print(df.duplicated())\n",
        "df.shape"
      ],
      "metadata": {
        "colab": {
          "base_uri": "https://localhost:8080/"
        },
        "id": "FFo4GV41EoyP",
        "outputId": "eac4367f-5e2a-45f5-e01a-65f10861c794"
      },
      "execution_count": null,
      "outputs": [
        {
          "output_type": "stream",
          "name": "stdout",
          "text": [
            "0          False\n",
            "1          False\n",
            "2          False\n",
            "3          False\n",
            "4          False\n",
            "           ...  \n",
            "6362615    False\n",
            "6362616    False\n",
            "6362617    False\n",
            "6362618    False\n",
            "6362619    False\n",
            "Length: 6362620, dtype: bool\n"
          ]
        },
        {
          "output_type": "execute_result",
          "data": {
            "text/plain": [
              "(6362620, 10)"
            ]
          },
          "metadata": {},
          "execution_count": 23
        }
      ]
    },
    {
      "cell_type": "code",
      "source": [
        "# Transform Categorical Varibles in to Numerical Variables\n",
        "df[\"type\"] = df[\"type\"].map({\"CASH_OUT\": 1, \"PAYMENT\": 4, \n",
        "                                 \"CASH_IN\": 2, \"TRANSFER\": 5,\n",
        "                                 \"DEBIT\": 3})\n",
        "df[\"isFraud\"] = df[\"isFraud\"].map({0: \"No Fraud\", 1: \"Fraud\"})\n",
        "print(df.head())"
      ],
      "metadata": {
        "colab": {
          "base_uri": "https://localhost:8080/"
        },
        "id": "E0SwHxPeEvHg",
        "outputId": "c82d2a48-ac40-4ee2-c882-11aa9c085063"
      },
      "execution_count": null,
      "outputs": [
        {
          "output_type": "stream",
          "name": "stdout",
          "text": [
            "   step  type    amount     nameOrig  oldbalanceOrg  newbalanceOrig  \\\n",
            "0     1     4   9839.64  C1231006815       170136.0       160296.36   \n",
            "1     1     4   1864.28  C1666544295        21249.0        19384.72   \n",
            "2     1     5    181.00  C1305486145          181.0            0.00   \n",
            "3     1     1    181.00   C840083671          181.0            0.00   \n",
            "4     1     4  11668.14  C2048537720        41554.0        29885.86   \n",
            "\n",
            "      nameDest  oldbalanceDest  newbalanceDest   isFraud  isFlaggedFraud  \n",
            "0  M1979787155             0.0             0.0  No Fraud               0  \n",
            "1  M2044282225             0.0             0.0  No Fraud               0  \n",
            "2   C553264065             0.0             0.0     Fraud               0  \n",
            "3    C38997010         21182.0             0.0     Fraud               0  \n",
            "4  M1230701703             0.0             0.0  No Fraud               0  \n"
          ]
        }
      ]
    },
    {
      "cell_type": "code",
      "source": [
        "#Plot heatmap to observe positive and negative correlation between variables\n",
        "\n",
        "plt.figure(figsize=(10,10))\n",
        "sns.heatmap(df.corr(),cbar=True,annot=True,cmap='Blues')"
      ],
      "metadata": {
        "colab": {
          "base_uri": "https://localhost:8080/",
          "height": 686
        },
        "id": "IePUr3GJE4bD",
        "outputId": "043e6bc3-91a7-42d7-9494-e90bf76e1704"
      },
      "execution_count": null,
      "outputs": [
        {
          "output_type": "execute_result",
          "data": {
            "text/plain": [
              "<matplotlib.axes._subplots.AxesSubplot at 0x7fd885c53350>"
            ]
          },
          "metadata": {},
          "execution_count": 7
        },
        {
          "output_type": "display_data",
          "data": {
            "text/plain": [
              "<Figure size 720x720 with 2 Axes>"
            ],
            "image/png": "[encoded data removed]"
          },
          "metadata": {
            "needs_background": "light"
          }
        }
      ]
    },
    {
      "cell_type": "code",
      "source": [
        "# Test positive and negative correlation by using Pearson’s correlation coefficient \n",
        "\n",
        "correlation_of_old_new_origin = np.corrcoef(df.oldbalanceOrg, df.newbalanceOrig)\n",
        "print(correlation_of_old_new_origin)\n",
        "\n"
      ],
      "metadata": {
        "colab": {
          "base_uri": "https://localhost:8080/"
        },
        "id": "VHM7ShxRE5Xr",
        "outputId": "96e13c5d-4fbc-4a01-a0c2-aeb9a9a48818"
      },
      "execution_count": null,
      "outputs": [
        {
          "output_type": "stream",
          "name": "stdout",
          "text": [
            "[[1.         0.99880276]\n",
            " [0.99880276 1.        ]]\n"
          ]
        }
      ]
    },
    {
      "cell_type": "code",
      "source": [
        "correlation_of_old_new_origin_isfraud = np.corrcoef(df.newbalanceOrig, df.isFraud )\n",
        "print(correlation_of_old_new_origin_isfraud)"
      ],
      "metadata": {
        "id": "x92qG51hGc9Y"
      },
      "execution_count": null,
      "outputs": []
    },
    {
      "cell_type": "code",
      "source": [
        "\n",
        "correlation_of_old_new_dest_isfraud = np.corrcoef(df.oldbalanceDest, df.isFraud )\n",
        "print(correlation_of_old_new_dest_isfraud)"
      ],
      "metadata": {
        "colab": {
          "base_uri": "https://localhost:8080/"
        },
        "id": "7xRdJTmaGdk6",
        "outputId": "57d078b1-463f-4b12-ea8f-dd972a522e41"
      },
      "execution_count": null,
      "outputs": [
        {
          "output_type": "stream",
          "name": "stdout",
          "text": [
            "[[ 1.         -0.00588528]\n",
            " [-0.00588528  1.        ]]\n"
          ]
        }
      ]
    },
    {
      "cell_type": "code",
      "source": [
        "# Finding patterns in oldbalanceDest and isFraud Variables\n",
        "\n",
        "plt.figure(figsize=(5,5))\n",
        "plt.scatter(x='oldbalanceDest',y='isFraud',data=df)\n",
        "plt.xlabel('oldbalanceDest')\n",
        "plt.ylabel('isFraud')\n",
        "\n",
        "'''We can see that most of the fraud value lies between 0.0-0.5, there are outliers also(between 0.0-0.5).'''"
      ],
      "metadata": {
        "colab": {
          "base_uri": "https://localhost:8080/",
          "height": 353
        },
        "id": "noNfuzvvE8S1",
        "outputId": "5ca5ab2a-c9d0-4a3e-e04f-157005f8bd9e"
      },
      "execution_count": null,
      "outputs": [
        {
          "output_type": "execute_result",
          "data": {
            "text/plain": [
              "'We can see that most of the fraud value lies between 0.0-0.5, there are outliers also(between 0.0-0.5).'"
            ],
            "application/vnd.google.colaboratory.intrinsic+json": {
              "type": "string"
            }
          },
          "metadata": {},
          "execution_count": 6
        },
        {
          "output_type": "display_data",
          "data": {
            "text/plain": [
              "<Figure size 360x360 with 1 Axes>"
            ],
            "image/png": "[encoded data removed]"
          },
          "metadata": {
            "needs_background": "light"
          }
        }
      ]
    },
    {
      "cell_type": "code",
      "source": [
        "# Finding patterns in newbalanceOrig and isFraud Variables\n",
        "\n",
        "# plt.figure(figsize=(5,5))\n",
        "plt.scatter(x ='isFraud' , y ='newbalanceOrig',data=df)\n",
        "plt.ylabel('newbalanceOrig')\n",
        "plt.xlabel('isFraud')\n",
        "\n",
        "'''We can see that most of the fraud value lies between 0.0-1.5, there are outliers also(between 0.0-1.5).'''"
      ],
      "metadata": {
        "colab": {
          "base_uri": "https://localhost:8080/",
          "height": 309
        },
        "id": "9-LSozTYFANP",
        "outputId": "da1934ce-809f-4042-aa81-5ff98fa49f3c"
      },
      "execution_count": null,
      "outputs": [
        {
          "output_type": "execute_result",
          "data": {
            "text/plain": [
              "'We can see that most of the fraud value lies between 0.0-1.5, there are outliers also(between 0.0-1.5).'"
            ],
            "application/vnd.google.colaboratory.intrinsic+json": {
              "type": "string"
            }
          },
          "metadata": {},
          "execution_count": 63
        },
        {
          "output_type": "display_data",
          "data": {
            "text/plain": [
              "<Figure size 432x288 with 1 Axes>"
            ],
            "image/png": "[encoded data removed]"
          },
          "metadata": {
            "needs_background": "light"
          }
        }
      ]
    },
    {
      "cell_type": "code",
      "source": [
        "# Detection of Outliers using Inter Quartile Range\n",
        "\n",
        "Cols = ['newbalanceOrig' ,'oldbalanceDest']\n",
        "\n",
        "\n",
        "Q1 = np.percentile(df[Cols], 25,\n",
        "                   interpolation = 'midpoint')\n",
        " \n",
        "Q3 = np.percentile(df[Cols], 75,\n",
        "                   interpolation = 'midpoint')\n",
        "IQR = Q3 - Q1\n",
        "\n",
        "print(IQR)\n",
        "\n"
      ],
      "metadata": {
        "colab": {
          "base_uri": "https://localhost:8080/"
        },
        "id": "3cXIU72TFPJy",
        "outputId": "c848fe01-c6ec-4eb3-f97d-6df479766a49"
      },
      "execution_count": null,
      "outputs": [
        {
          "output_type": "stream",
          "name": "stdout",
          "text": [
            "473550.635\n"
          ]
        }
      ]
    },
    {
      "cell_type": "code",
      "source": [
        "# Below Upper bound\n",
        "upper = df[Cols] >= (Q3+1.5*IQR)\n",
        " \n",
        "# Below Lower bound\n",
        "lower = df[Cols] <= (Q1-1.5*IQR)\n",
        "\n",
        "# print(upper,lower)\n",
        "\n",
        "# Exclude Outliers from the data\n",
        "df = df[~((df[Cols] < (Q1 - 1.5 * IQR)) |(df[Cols] > (Q3 + 1.5 * IQR))).any(axis=1)]\n",
        "print(df.shape)"
      ],
      "metadata": {
        "id": "9bs_ZqmMKhl-",
        "colab": {
          "base_uri": "https://localhost:8080/"
        },
        "outputId": "b4cae454-aa8f-4302-8011-e8644e1cba1f"
      },
      "execution_count": null,
      "outputs": [
        {
          "output_type": "stream",
          "name": "stdout",
          "text": [
            "(4547762, 11)\n"
          ]
        }
      ]
    },
    {
      "cell_type": "code",
      "source": [
        "# Split the data in to training data and testing data\n",
        "from sklearn.model_selection import train_test_split\n",
        "x = np.array(df[[\"type\",\"amount\", \"oldbalanceOrg\", \"newbalanceOrig\"]])\n",
        "y = np.array(df[[\"isFraud\"]])"
      ],
      "metadata": {
        "id": "1gRf8u26FWQD"
      },
      "execution_count": null,
      "outputs": []
    },
    {
      "cell_type": "code",
      "source": [
        "# Before handling outliers Decision tree model performance   0.999732814469511, 0.9998632638755732, 0.9979976802009235\n",
        "\n",
        "from sklearn.tree import DecisionTreeClassifier\n",
        "xtrain, xtest, ytrain, ytest = train_test_split(x, y, test_size=0.10, random_state=42)\n",
        "\n",
        "# print(xtrain.shape, xtest.shape, ytrain.shape, ytest.shape)  \n",
        "\n",
        "model = DecisionTreeClassifier()\n",
        "model.fit(xtrain, ytrain)\n",
        "predicted = model.predict(xtest)\n",
        "actual = ytest\n",
        "# print(predicted,\"Predicted\")\n",
        "# print(actual,\"Expected\")\n",
        "print(model.score(xtest, ytest))"
      ],
      "metadata": {
        "id": "uWcHvztqFZPY",
        "colab": {
          "base_uri": "https://localhost:8080/"
        },
        "outputId": "a935d490-3bb5-449d-ebcc-052b85df55b4"
      },
      "execution_count": null,
      "outputs": [
        {
          "output_type": "stream",
          "name": "stdout",
          "text": [
            "['No Fraud' 'No Fraud' 'No Fraud' ... 'No Fraud' 'No Fraud' 'No Fraud'] Predicted\n",
            "[['No Fraud']\n",
            " ['No Fraud']\n",
            " ['No Fraud']\n",
            " ...\n",
            " ['No Fraud']\n",
            " ['No Fraud']\n",
            " ['No Fraud']] Expected\n",
            "0.9996635713767407\n"
          ]
        }
      ]
    },
    {
      "cell_type": "code",
      "source": [
        "# prediction\n",
        "#features = [type, amount, oldbalanceOrg, newbalanceOrig]\n",
        "features = np.array([[4, 5.00, 449.00, 192568979.0]])\n",
        "print(model.predict(features))"
      ],
      "metadata": {
        "colab": {
          "base_uri": "https://localhost:8080/"
        },
        "id": "rl-kujgufU_0",
        "outputId": "34f530bd-6198-40cb-e1f3-3fcd81b4e908"
      },
      "execution_count": null,
      "outputs": [
        {
          "output_type": "stream",
          "name": "stdout",
          "text": [
            "['No Fraud']\n"
          ]
        }
      ]
    },
    {
      "cell_type": "markdown",
      "source": [
        "Project Workflow\n",
        "\n",
        "\n",
        "Steps Involved in ML project:\n",
        "Covert Domain Problem into ML Problem\n",
        "\n",
        "Data Collection and Preparation \n",
        "     2.1  Data Collection      \n",
        "     2.2  Data Preprocessing   \n",
        "     2.3  Exploratory Data Analysis & Feature Engineering\n",
        "Training\n",
        "    3.1  Choosing ML Algorithm    \n",
        "    3.2  Training     \n",
        "    3.3  Evaluation     \n",
        "    3.4  Hyperparameter Tuning\n",
        "Deploying\n",
        "\n",
        "1. Covert Domain Problem into ML Problem\n",
        "\n",
        "Define the Goals Precisely.\n",
        "\n",
        "Before starting, the problem ensures that the current technology available with ML Is able to solve the problem.\n",
        "\n",
        "Talk with Domain Experts to know what are constraints which we have to solve the problem.\n",
        "\n",
        "Decide whether the problem is solvable using ML or not?\n",
        "\n",
        "\n",
        "How Can I decide?\n",
        "\n",
        "The fraud detection process using machine learning starts with gathering and \n",
        "segmenting the data. Then, the machine learning model is fed with training sets to \n",
        "predict the probability of fraud.\n",
        "\n",
        "The use case for fraud detection using ML\n",
        "Fraudulent banking transactions are quite a common occurrence today. However, it is not feasible to investigate every transaction for fraud, translating to a poor customer service experience. To identify and prioritize all kinds of possible fraudulent activities. It also helps you optimize customer satisfaction by protecting their accounts and not challenging valid transactions. Such fraud detection using ML can help banks and financial organizations save money on disputes/chargebacks as one can train Machine Learning models to flag transactions that appear fraudulent based on specific characteristics.\n",
        "\n",
        "2. Data Collection and Preparation\n",
        "\n",
        "--> Firstly Identify null values in the data set\n",
        " In the current data there no null values present in the dataset\n",
        "--> Detection of outliers  and finding different patterns from the data \n",
        "  Using correlation, pearsons correlation coiefficeint and through different charts.\n",
        "\n",
        "3.1 Choosing ML Algorithm   \n",
        "\n",
        "I select Decision tree algorithm.Every algorithm has its own pros and cons.\n",
        "\n",
        "Why I choose Decision Tree algorithm?\n",
        "\n",
        "After some mininmal research I choose this algorithm.\n",
        "\n",
        "Decision trees are widely used since they are easy to interpret, handle categorical features, extend to the multiclass classification setting, do not require feature scaling, and are able to capture non-linearities and feature interactions. Tree ensemble algorithms such as random forests and boosting are among the top performers for classification and regression tasks.\n",
        "\n",
        "Because of these facets, decision trees often perform well on top of rules-based models and are often a good starting point for fraud detection.\n",
        "\n",
        "Metrics considered for performance of the model\n",
        "\n",
        "Accuracy\n",
        "Precision\n",
        "Recall\n"
      ],
      "metadata": {
        "id": "cDZuaduTJ828"
      }
    }
  ]
}